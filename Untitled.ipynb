{
 "cells": [
  {
   "cell_type": "raw",
   "id": "b6538e30-4325-472e-b956-2cbc6a7ddd6d",
   "metadata": {
    "vscode": {
     "languageId": "raw"
    }
   },
   "source": [
    "\n"
   ]
  },
  {
   "cell_type": "raw",
   "id": "1b007aeb",
   "metadata": {
    "vscode": {
     "languageId": "raw"
    }
   },
   "source": [
    "\n"
   ]
  },
  {
   "cell_type": "raw",
   "id": "988f5316",
   "metadata": {
    "vscode": {
     "languageId": "raw"
    }
   },
   "source": [
    "import pandas as pandas\n",
    "import matplotlib.pylot as plt\n",
    "\n",
    "df = pd.read_csv(\"cases.csv\")\n",
    "\n",
    "df['date'] = pd.to_datetime(df['date'], format='%d-%b-%y')\n",
    "\n",
    "df['dailypositive_rate'] = df['dailypositive_rate'].str.replace('%', '').astype(float)\n",
    "df['new_confirmed'] = pd.to_numeric(df['new_confirmed'],errors='coerce')\n",
    "df['new_released'] = pd.to_numeric(df['new_released'], errors='coerce)\n",
    "df['new_deceased'] = pd.to_numeric(df['new_deceased'], errors='coerce)\n",
    "\n",
    "plt.figure(figsize=(14, 8))\n",
    "plt.plot(df['date'], df['new_confirmed'], label='kasus baru', color='orange')\n",
    "plt.plot(df['date'], df['new_released'], label='sembuh baru', color='green')\n",
    "plt.plot(df['date'], df['new_deceased'], label='kematian baru', color='red')\n",
    "plt.xlabel('tanggal')\n",
    "plt.ylabel('jumlah kasus')\n",
    "plt.title('Tren Harian Kasus Baru, Sembuh, dan Kematian')\n",
    "plt.legend()\n",
    "plt.grid(True)\n",
    "plt.tight_layout()\n",
    "plt.show()"
   ]
  },
  {
   "cell_type": "raw",
   "id": "b8cdc455",
   "metadata": {},
   "source": []
  }
 ],
 "metadata": {
  "kernelspec": {
   "display_name": "Python 3 (ipykernel)",
   "language": "python",
   "name": "python3"
  },
  "language_info": {
   "codemirror_mode": {
    "name": "ipython",
    "version": 3
   },
   "file_extension": ".py",
   "mimetype": "text/x-python",
   "name": "python",
   "nbconvert_exporter": "python",
   "pygments_lexer": "ipython3",
   "version": "3.13.2"
  }
 },
 "nbformat": 4,
 "nbformat_minor": 5
}
